{
  "nbformat": 4,
  "nbformat_minor": 0,
  "metadata": {
    "colab": {
      "provenance": []
    },
    "kernelspec": {
      "name": "python3",
      "display_name": "Python 3"
    },
    "language_info": {
      "name": "python"
    }
  },
  "cells": [
    {
      "cell_type": "markdown",
      "source": [],
      "metadata": {
        "id": "nBJ3YZS4jD3W"
      }
    },
    {
      "cell_type": "code",
      "source": [
        "from typing import List"
      ],
      "metadata": {
        "id": "b9PEZkZggY3S"
      },
      "execution_count": 1,
      "outputs": []
    },
    {
      "cell_type": "code",
      "execution_count": 2,
      "metadata": {
        "id": "RuG0pI-Vakk1"
      },
      "outputs": [],
      "source": [
        "class Subscription:\n",
        "  def __init__(self, name, mo, tu, we, th, fr, sa, su):\n",
        "    self.name = name\n",
        "    self.monday = mo\n",
        "    self.tuesday = tu\n",
        "    self.wednesday = we\n",
        "    self.thursday = th\n",
        "    self.friday = fr\n",
        "    self.saturday = sa\n",
        "    self.sunday = su\n",
        "\n",
        "  def get_cost(self) -> float:\n",
        "    return self.monday + self.tuesday + self.wednesday + self.thursday + self.friday + self.saturday + self.sunday\n"
      ]
    },
    {
      "cell_type": "code",
      "source": [],
      "metadata": {
        "id": "AaqfuJrgamY_"
      },
      "execution_count": 3,
      "outputs": []
    },
    {
      "cell_type": "code",
      "source": [
        "def get_pairs(arr: List[Subscription], budget: int):\n",
        "  ans = []\n",
        "  n = len(arr)\n",
        "  for i in range(n):\n",
        "    for j in range(i+1, n):\n",
        "      summation = arr[i].get_cost() + arr[j].get_cost()\n",
        "      if summation <= budget:\n",
        "        ans.append({arr[i].name, arr[j].name})\n",
        "  return ans\n"
      ],
      "metadata": {
        "id": "maVGY7kRcc1E"
      },
      "execution_count": 4,
      "outputs": []
    },
    {
      "cell_type": "code",
      "source": [
        "if __name__ == '__main__':\n",
        "  TOI = Subscription(name=\"TOI\", mo=3, tu=3, we=3, th=3, fr=3, sa=5, su=6)\n",
        "  Hindu = Subscription(name=\"Hindu\", mo=2.5, tu=2.5, we=2.5, th=2.5, fr=2.5, sa=4, su=4)\n",
        "  ET = Subscription(name=\"ET\", mo=4, tu=4, we=4, th=4, fr=4, sa=4, su=10)\n",
        "  BM = Subscription(name=\"BM\", mo=1.5, tu=1.5, we=1.5, th=1.5, fr=1.5, sa=1.5, su=1.5)\n",
        "  HT = Subscription(name=\"HT\", mo=2, tu=2, we=2, th=2, fr=2, sa=4, su=4)\n",
        "\n",
        "  inputs = [TOI, Hindu, ET, BM, HT]\n",
        "  budget = 40\n",
        "  get_pairs(inputs, budget)"
      ],
      "metadata": {
        "id": "uouosObsgvda"
      },
      "execution_count": 6,
      "outputs": []
    },
    {
      "cell_type": "code",
      "source": [],
      "metadata": {
        "id": "uXUcxGIXjtDA"
      },
      "execution_count": null,
      "outputs": []
    }
  ]
}